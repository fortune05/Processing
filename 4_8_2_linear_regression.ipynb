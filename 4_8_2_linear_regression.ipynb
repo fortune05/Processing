{
  "nbformat": 4,
  "nbformat_minor": 0,
  "metadata": {
    "colab": {
      "name": "4.8.2 linear regression.ipynb",
      "provenance": [],
      "collapsed_sections": [],
      "authorship_tag": "ABX9TyMXFxkHwmqkVdctAvh9VgK0",
      "include_colab_link": true
    },
    "kernelspec": {
      "name": "python3",
      "display_name": "Python 3"
    }
  },
  "cells": [
    {
      "cell_type": "markdown",
      "metadata": {
        "id": "view-in-github",
        "colab_type": "text"
      },
      "source": [
        "<a href=\"https://colab.research.google.com/github/fortune05/Processing/blob/master/4_8_2_linear_regression.ipynb\" target=\"_parent\"><img src=\"https://colab.research.google.com/assets/colab-badge.svg\" alt=\"Open In Colab\"/></a>"
      ]
    },
    {
      "cell_type": "code",
      "metadata": {
        "id": "VmEfGLnp9aHz"
      },
      "source": [
        "from tensorflow.keras import optimizers\n",
        "from tensorflow.keras.models import Sequential\n",
        "from tensorflow.keras.layers import Dense\n",
        "import numpy as np\n",
        "import matplotlib.pyplot as plt\n",
        "%matplotlib inline"
      ],
      "execution_count": null,
      "outputs": []
    },
    {
      "cell_type": "code",
      "metadata": {
        "id": "A81zagva90TN"
      },
      "source": [
        "# X, Y 데이터 임의생성\n",
        "\n",
        "X = np.linspace(0,10,10)\n",
        "Y = X + np.random.randn(*X.shape)"
      ],
      "execution_count": null,
      "outputs": []
    },
    {
      "cell_type": "code",
      "metadata": {
        "colab": {
          "base_uri": "https://localhost:8080/"
        },
        "id": "F1ELYvzM-UCS",
        "outputId": "3a45c0b0-6ca0-43b8-8f38-23cbcccd3cea"
      },
      "source": [
        "for x, y in zip(X,Y):\n",
        "  print((round(x,1), round(y,1)))"
      ],
      "execution_count": null,
      "outputs": [
        {
          "output_type": "stream",
          "text": [
            "(0.0, 0.2)\n",
            "(1.1, 4.3)\n",
            "(2.2, 1.5)\n",
            "(3.3, 4.0)\n",
            "(4.4, 3.2)\n",
            "(5.6, 5.3)\n",
            "(6.7, 6.2)\n",
            "(7.8, 9.4)\n",
            "(8.9, 9.0)\n",
            "(10.0, 9.5)\n"
          ],
          "name": "stdout"
        }
      ]
    },
    {
      "cell_type": "code",
      "metadata": {
        "id": "TjJ_wy-u_D4w"
      },
      "source": [
        "# 선형회귀모델 생성 Keras의 Sequential 이용\n",
        "# 입력값 하나, 출력값 하나, 선형회귀, y절편 없음\n",
        "\n",
        "model = Sequential()\n",
        "model.add(Dense(input_dim=1, units=1, activation=\"linear\", use_bias=False))"
      ],
      "execution_count": null,
      "outputs": []
    },
    {
      "cell_type": "code",
      "metadata": {
        "id": "_JzeDna7BHbR"
      },
      "source": [
        "# 경사하강, learning rate : 0.05\n",
        "# learning rate가 낮을 경우 속도 느림, learning rate가 높은 경우 정확도가 떨어진다.\n",
        "# mse : 평균제곱오차\n",
        "\n",
        "sgd = optimizers.SGD(lr=0.05)\n",
        "model.compile(optimizer='sgd', loss='mse')"
      ],
      "execution_count": null,
      "outputs": []
    },
    {
      "cell_type": "code",
      "metadata": {
        "colab": {
          "base_uri": "https://localhost:8080/"
        },
        "id": "aWfJsTnta0l2",
        "outputId": "651186c6-d739-44a5-e1d2-c387d93f608b"
      },
      "source": [
        "# 선형회귀 함수 생성 전 임의의 weights 값\n",
        "\n",
        "weights = model.layers[0].get_weights()\n",
        "wei = weights[0][0][0]\n",
        "print('initial w is : ' + str(wei))"
      ],
      "execution_count": null,
      "outputs": [
        {
          "output_type": "stream",
          "text": [
            "initial w is : -0.20755517\n"
          ],
          "name": "stdout"
        }
      ]
    },
    {
      "cell_type": "code",
      "metadata": {
        "colab": {
          "base_uri": "https://localhost:8080/"
        },
        "id": "Js7XIekMCC7L",
        "outputId": "2e7e93ab-5512-44b6-abe0-01966d7e72e9"
      },
      "source": [
        "# 최적의 회귀계수 생성\n",
        "# 경사하강을 통해 loss 값이 특정 구간에서 더 이상 줄어들지 않음\n",
        "\n",
        "model.fit(X, Y, batch_size=10, epochs=10, verbose=1)"
      ],
      "execution_count": null,
      "outputs": [
        {
          "output_type": "stream",
          "text": [
            "Epoch 1/10\n",
            "1/1 [==============================] - 0s 1ms/step - loss: 53.2922\n",
            "Epoch 2/10\n",
            "1/1 [==============================] - 0s 1ms/step - loss: 6.0923\n",
            "Epoch 3/10\n",
            "1/1 [==============================] - 0s 3ms/step - loss: 1.9486\n",
            "Epoch 4/10\n",
            "1/1 [==============================] - 0s 901us/step - loss: 1.5848\n",
            "Epoch 5/10\n",
            "1/1 [==============================] - 0s 1ms/step - loss: 1.5528\n",
            "Epoch 6/10\n",
            "1/1 [==============================] - 0s 997us/step - loss: 1.5500\n",
            "Epoch 7/10\n",
            "1/1 [==============================] - 0s 863us/step - loss: 1.5498\n",
            "Epoch 8/10\n",
            "1/1 [==============================] - 0s 3ms/step - loss: 1.5498\n",
            "Epoch 9/10\n",
            "1/1 [==============================] - 0s 2ms/step - loss: 1.5498\n",
            "Epoch 10/10\n",
            "1/1 [==============================] - 0s 2ms/step - loss: 1.5498\n"
          ],
          "name": "stdout"
        },
        {
          "output_type": "execute_result",
          "data": {
            "text/plain": [
              "<tensorflow.python.keras.callbacks.History at 0x7f9e96f39278>"
            ]
          },
          "metadata": {
            "tags": []
          },
          "execution_count": 914
        }
      ]
    },
    {
      "cell_type": "code",
      "metadata": {
        "colab": {
          "base_uri": "https://localhost:8080/"
        },
        "id": "jcRLpetbBvxk",
        "outputId": "095d1dfe-dec9-4c65-f5b3-9a9bd0ec3bf9"
      },
      "source": [
        "# 최종 회귀계수 출력\n",
        "\n",
        "weights = model.layers[0].get_weights()\n",
        "wei = weights[0][0][0]\n",
        "print('last w is : ' + str(wei))"
      ],
      "execution_count": null,
      "outputs": [
        {
          "output_type": "stream",
          "text": [
            "last w is : 1.0051113\n"
          ],
          "name": "stdout"
        }
      ]
    },
    {
      "cell_type": "code",
      "metadata": {
        "colab": {
          "base_uri": "https://localhost:8080/",
          "height": 282
        },
        "id": "kldb0d38DcJD",
        "outputId": "aa4d064e-f031-4e95-99c7-482aaac3e46f"
      },
      "source": [
        "# 실제값과 선형회귀함수 비교\n",
        "print(model.weights)\n",
        "plt.plot(X, Y, label='data')\n",
        "plt.plot(X, wei*X, label='prediction')\n",
        "plt.legend()\n",
        "plt.show()"
      ],
      "execution_count": null,
      "outputs": [
        {
          "output_type": "stream",
          "text": [
            "[<tf.Variable 'dense_101/kernel:0' shape=(1, 1) dtype=float32, numpy=array([[1.0051113]], dtype=float32)>]\n"
          ],
          "name": "stdout"
        },
        {
          "output_type": "display_data",
          "data": {
            "image/png": "[encoded data removed]",
            "text/plain": [
              "<Figure size 432x288 with 1 Axes>"
            ]
          },
          "metadata": {
            "tags": [],
            "needs_background": "light"
          }
        }
      ]
    }
  ]
}